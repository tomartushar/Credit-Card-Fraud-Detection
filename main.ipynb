{
 "cells": [
  {
   "cell_type": "code",
   "execution_count": 130,
   "metadata": {},
   "outputs": [],
   "source": [
    "# Importing data loading libraries\n",
    "import pandas as pd\n",
    "import numpy as np\n",
    "\n",
    "\n",
    "# Importing data visualization libraries\n",
    "import matplotlib.pyplot as plt\n",
    "import seaborn as sns\n",
    "\n",
    "\n",
    "# Importing statistical analysis libraries \n",
    "from scipy.stats import ttest_ind\n",
    "from statsmodels.stats.outliers_influence import variance_inflation_factor\n",
    "import warnings\n",
    "warnings.filterwarnings('ignore')\n"
   ]
  },
  {
   "cell_type": "code",
   "execution_count": 2,
   "metadata": {},
   "outputs": [],
   "source": [
    "data = pd.read_csv('data/creditcard.csv')"
   ]
  },
  {
   "cell_type": "markdown",
   "metadata": {},
   "source": [
    "## **Basic Exploration**\n",
    "* Dataset shape: (284807, 31)\n",
    "* Dtypes: All columns are float except the target which is `int64`\n",
    "* No column has missing value"
   ]
  },
  {
   "cell_type": "code",
   "execution_count": 3,
   "metadata": {},
   "outputs": [
    {
     "data": {
      "text/plain": [
       "(284807, 31)"
      ]
     },
     "execution_count": 3,
     "metadata": {},
     "output_type": "execute_result"
    }
   ],
   "source": [
    "data.shape"
   ]
  },
  {
   "cell_type": "code",
   "execution_count": 4,
   "metadata": {},
   "outputs": [
    {
     "name": "stdout",
     "output_type": "stream",
     "text": [
      "<class 'pandas.core.frame.DataFrame'>\n",
      "RangeIndex: 284807 entries, 0 to 284806\n",
      "Data columns (total 31 columns):\n",
      " #   Column  Non-Null Count   Dtype  \n",
      "---  ------  --------------   -----  \n",
      " 0   Time    284807 non-null  float64\n",
      " 1   V1      284807 non-null  float64\n",
      " 2   V2      284807 non-null  float64\n",
      " 3   V3      284807 non-null  float64\n",
      " 4   V4      284807 non-null  float64\n",
      " 5   V5      284807 non-null  float64\n",
      " 6   V6      284807 non-null  float64\n",
      " 7   V7      284807 non-null  float64\n",
      " 8   V8      284807 non-null  float64\n",
      " 9   V9      284807 non-null  float64\n",
      " 10  V10     284807 non-null  float64\n",
      " 11  V11     284807 non-null  float64\n",
      " 12  V12     284807 non-null  float64\n",
      " 13  V13     284807 non-null  float64\n",
      " 14  V14     284807 non-null  float64\n",
      " 15  V15     284807 non-null  float64\n",
      " 16  V16     284807 non-null  float64\n",
      " 17  V17     284807 non-null  float64\n",
      " 18  V18     284807 non-null  float64\n",
      " 19  V19     284807 non-null  float64\n",
      " 20  V20     284807 non-null  float64\n",
      " 21  V21     284807 non-null  float64\n",
      " 22  V22     284807 non-null  float64\n",
      " 23  V23     284807 non-null  float64\n",
      " 24  V24     284807 non-null  float64\n",
      " 25  V25     284807 non-null  float64\n",
      " 26  V26     284807 non-null  float64\n",
      " 27  V27     284807 non-null  float64\n",
      " 28  V28     284807 non-null  float64\n",
      " 29  Amount  284807 non-null  float64\n",
      " 30  Class   284807 non-null  int64  \n",
      "dtypes: float64(30), int64(1)\n",
      "memory usage: 67.4 MB\n"
     ]
    }
   ],
   "source": [
    "data.info()"
   ]
  },
  {
   "cell_type": "markdown",
   "metadata": {},
   "source": [
    "## **Target Exploration**\n",
    "* Dataset is imbalanced, class-1 has only 0.17% contribution."
   ]
  },
  {
   "cell_type": "code",
   "execution_count": 5,
   "metadata": {},
   "outputs": [
    {
     "name": "stdout",
     "output_type": "stream",
     "text": [
      "Class-frequency:\n",
      " 0    284315\n",
      "1       492\n",
      "Name: Class, dtype: int64\n",
      "\n",
      "Class-Distributino:\n",
      " 0    99.83\n",
      "1     0.17\n",
      "Name: Class, dtype: float64\n"
     ]
    }
   ],
   "source": [
    "print('Class-frequency:\\n', data['Class'].value_counts())\n",
    "print()\n",
    "print('Class-Distributino:\\n', round(data['Class'].value_counts(normalize=True)*100,2))"
   ]
  },
  {
   "cell_type": "markdown",
   "metadata": {},
   "source": [
    "## **Checking Outliers**\n",
    "* `Amount` and other PCA features have outliers but they perhaps be fraud cases, hence, need further investigation."
   ]
  },
  {
   "cell_type": "code",
   "execution_count": 6,
   "metadata": {},
   "outputs": [],
   "source": [
    "pd.set_option('display.max_columns', None)"
   ]
  },
  {
   "cell_type": "code",
   "execution_count": 7,
   "metadata": {},
   "outputs": [
    {
     "data": {
      "text/html": [
       "<div>\n",
       "<style scoped>\n",
       "    .dataframe tbody tr th:only-of-type {\n",
       "        vertical-align: middle;\n",
       "    }\n",
       "\n",
       "    .dataframe tbody tr th {\n",
       "        vertical-align: top;\n",
       "    }\n",
       "\n",
       "    .dataframe thead th {\n",
       "        text-align: right;\n",
       "    }\n",
       "</style>\n",
       "<table border=\"1\" class=\"dataframe\">\n",
       "  <thead>\n",
       "    <tr style=\"text-align: right;\">\n",
       "      <th></th>\n",
       "      <th>Time</th>\n",
       "      <th>V1</th>\n",
       "      <th>V2</th>\n",
       "      <th>V3</th>\n",
       "      <th>V4</th>\n",
       "      <th>V5</th>\n",
       "      <th>V6</th>\n",
       "      <th>V7</th>\n",
       "      <th>V8</th>\n",
       "      <th>V9</th>\n",
       "      <th>V10</th>\n",
       "      <th>V11</th>\n",
       "      <th>V12</th>\n",
       "      <th>V13</th>\n",
       "      <th>V14</th>\n",
       "      <th>V15</th>\n",
       "      <th>V16</th>\n",
       "      <th>V17</th>\n",
       "      <th>V18</th>\n",
       "      <th>V19</th>\n",
       "      <th>V20</th>\n",
       "      <th>V21</th>\n",
       "      <th>V22</th>\n",
       "      <th>V23</th>\n",
       "      <th>V24</th>\n",
       "      <th>V25</th>\n",
       "      <th>V26</th>\n",
       "      <th>V27</th>\n",
       "      <th>V28</th>\n",
       "      <th>Amount</th>\n",
       "      <th>Class</th>\n",
       "    </tr>\n",
       "  </thead>\n",
       "  <tbody>\n",
       "    <tr>\n",
       "      <th>count</th>\n",
       "      <td>284807.000000</td>\n",
       "      <td>2.848070e+05</td>\n",
       "      <td>2.848070e+05</td>\n",
       "      <td>2.848070e+05</td>\n",
       "      <td>2.848070e+05</td>\n",
       "      <td>2.848070e+05</td>\n",
       "      <td>2.848070e+05</td>\n",
       "      <td>2.848070e+05</td>\n",
       "      <td>2.848070e+05</td>\n",
       "      <td>2.848070e+05</td>\n",
       "      <td>2.848070e+05</td>\n",
       "      <td>2.848070e+05</td>\n",
       "      <td>2.848070e+05</td>\n",
       "      <td>2.848070e+05</td>\n",
       "      <td>2.848070e+05</td>\n",
       "      <td>2.848070e+05</td>\n",
       "      <td>2.848070e+05</td>\n",
       "      <td>2.848070e+05</td>\n",
       "      <td>2.848070e+05</td>\n",
       "      <td>2.848070e+05</td>\n",
       "      <td>2.848070e+05</td>\n",
       "      <td>2.848070e+05</td>\n",
       "      <td>2.848070e+05</td>\n",
       "      <td>2.848070e+05</td>\n",
       "      <td>2.848070e+05</td>\n",
       "      <td>2.848070e+05</td>\n",
       "      <td>2.848070e+05</td>\n",
       "      <td>2.848070e+05</td>\n",
       "      <td>2.848070e+05</td>\n",
       "      <td>284807.000000</td>\n",
       "      <td>284807.000000</td>\n",
       "    </tr>\n",
       "    <tr>\n",
       "      <th>mean</th>\n",
       "      <td>94813.859575</td>\n",
       "      <td>1.168375e-15</td>\n",
       "      <td>3.416908e-16</td>\n",
       "      <td>-1.379537e-15</td>\n",
       "      <td>2.074095e-15</td>\n",
       "      <td>9.604066e-16</td>\n",
       "      <td>1.487313e-15</td>\n",
       "      <td>-5.556467e-16</td>\n",
       "      <td>1.213481e-16</td>\n",
       "      <td>-2.406331e-15</td>\n",
       "      <td>2.239053e-15</td>\n",
       "      <td>1.673327e-15</td>\n",
       "      <td>-1.247012e-15</td>\n",
       "      <td>8.190001e-16</td>\n",
       "      <td>1.207294e-15</td>\n",
       "      <td>4.887456e-15</td>\n",
       "      <td>1.437716e-15</td>\n",
       "      <td>-3.772171e-16</td>\n",
       "      <td>9.564149e-16</td>\n",
       "      <td>1.039917e-15</td>\n",
       "      <td>6.406204e-16</td>\n",
       "      <td>1.654067e-16</td>\n",
       "      <td>-3.568593e-16</td>\n",
       "      <td>2.578648e-16</td>\n",
       "      <td>4.473266e-15</td>\n",
       "      <td>5.340915e-16</td>\n",
       "      <td>1.683437e-15</td>\n",
       "      <td>-3.660091e-16</td>\n",
       "      <td>-1.227390e-16</td>\n",
       "      <td>88.349619</td>\n",
       "      <td>0.001727</td>\n",
       "    </tr>\n",
       "    <tr>\n",
       "      <th>std</th>\n",
       "      <td>47488.145955</td>\n",
       "      <td>1.958696e+00</td>\n",
       "      <td>1.651309e+00</td>\n",
       "      <td>1.516255e+00</td>\n",
       "      <td>1.415869e+00</td>\n",
       "      <td>1.380247e+00</td>\n",
       "      <td>1.332271e+00</td>\n",
       "      <td>1.237094e+00</td>\n",
       "      <td>1.194353e+00</td>\n",
       "      <td>1.098632e+00</td>\n",
       "      <td>1.088850e+00</td>\n",
       "      <td>1.020713e+00</td>\n",
       "      <td>9.992014e-01</td>\n",
       "      <td>9.952742e-01</td>\n",
       "      <td>9.585956e-01</td>\n",
       "      <td>9.153160e-01</td>\n",
       "      <td>8.762529e-01</td>\n",
       "      <td>8.493371e-01</td>\n",
       "      <td>8.381762e-01</td>\n",
       "      <td>8.140405e-01</td>\n",
       "      <td>7.709250e-01</td>\n",
       "      <td>7.345240e-01</td>\n",
       "      <td>7.257016e-01</td>\n",
       "      <td>6.244603e-01</td>\n",
       "      <td>6.056471e-01</td>\n",
       "      <td>5.212781e-01</td>\n",
       "      <td>4.822270e-01</td>\n",
       "      <td>4.036325e-01</td>\n",
       "      <td>3.300833e-01</td>\n",
       "      <td>250.120109</td>\n",
       "      <td>0.041527</td>\n",
       "    </tr>\n",
       "    <tr>\n",
       "      <th>min</th>\n",
       "      <td>0.000000</td>\n",
       "      <td>-5.640751e+01</td>\n",
       "      <td>-7.271573e+01</td>\n",
       "      <td>-4.832559e+01</td>\n",
       "      <td>-5.683171e+00</td>\n",
       "      <td>-1.137433e+02</td>\n",
       "      <td>-2.616051e+01</td>\n",
       "      <td>-4.355724e+01</td>\n",
       "      <td>-7.321672e+01</td>\n",
       "      <td>-1.343407e+01</td>\n",
       "      <td>-2.458826e+01</td>\n",
       "      <td>-4.797473e+00</td>\n",
       "      <td>-1.868371e+01</td>\n",
       "      <td>-5.791881e+00</td>\n",
       "      <td>-1.921433e+01</td>\n",
       "      <td>-4.498945e+00</td>\n",
       "      <td>-1.412985e+01</td>\n",
       "      <td>-2.516280e+01</td>\n",
       "      <td>-9.498746e+00</td>\n",
       "      <td>-7.213527e+00</td>\n",
       "      <td>-5.449772e+01</td>\n",
       "      <td>-3.483038e+01</td>\n",
       "      <td>-1.093314e+01</td>\n",
       "      <td>-4.480774e+01</td>\n",
       "      <td>-2.836627e+00</td>\n",
       "      <td>-1.029540e+01</td>\n",
       "      <td>-2.604551e+00</td>\n",
       "      <td>-2.256568e+01</td>\n",
       "      <td>-1.543008e+01</td>\n",
       "      <td>0.000000</td>\n",
       "      <td>0.000000</td>\n",
       "    </tr>\n",
       "    <tr>\n",
       "      <th>25%</th>\n",
       "      <td>54201.500000</td>\n",
       "      <td>-9.203734e-01</td>\n",
       "      <td>-5.985499e-01</td>\n",
       "      <td>-8.903648e-01</td>\n",
       "      <td>-8.486401e-01</td>\n",
       "      <td>-6.915971e-01</td>\n",
       "      <td>-7.682956e-01</td>\n",
       "      <td>-5.540759e-01</td>\n",
       "      <td>-2.086297e-01</td>\n",
       "      <td>-6.430976e-01</td>\n",
       "      <td>-5.354257e-01</td>\n",
       "      <td>-7.624942e-01</td>\n",
       "      <td>-4.055715e-01</td>\n",
       "      <td>-6.485393e-01</td>\n",
       "      <td>-4.255740e-01</td>\n",
       "      <td>-5.828843e-01</td>\n",
       "      <td>-4.680368e-01</td>\n",
       "      <td>-4.837483e-01</td>\n",
       "      <td>-4.988498e-01</td>\n",
       "      <td>-4.562989e-01</td>\n",
       "      <td>-2.117214e-01</td>\n",
       "      <td>-2.283949e-01</td>\n",
       "      <td>-5.423504e-01</td>\n",
       "      <td>-1.618463e-01</td>\n",
       "      <td>-3.545861e-01</td>\n",
       "      <td>-3.171451e-01</td>\n",
       "      <td>-3.269839e-01</td>\n",
       "      <td>-7.083953e-02</td>\n",
       "      <td>-5.295979e-02</td>\n",
       "      <td>5.600000</td>\n",
       "      <td>0.000000</td>\n",
       "    </tr>\n",
       "    <tr>\n",
       "      <th>50%</th>\n",
       "      <td>84692.000000</td>\n",
       "      <td>1.810880e-02</td>\n",
       "      <td>6.548556e-02</td>\n",
       "      <td>1.798463e-01</td>\n",
       "      <td>-1.984653e-02</td>\n",
       "      <td>-5.433583e-02</td>\n",
       "      <td>-2.741871e-01</td>\n",
       "      <td>4.010308e-02</td>\n",
       "      <td>2.235804e-02</td>\n",
       "      <td>-5.142873e-02</td>\n",
       "      <td>-9.291738e-02</td>\n",
       "      <td>-3.275735e-02</td>\n",
       "      <td>1.400326e-01</td>\n",
       "      <td>-1.356806e-02</td>\n",
       "      <td>5.060132e-02</td>\n",
       "      <td>4.807155e-02</td>\n",
       "      <td>6.641332e-02</td>\n",
       "      <td>-6.567575e-02</td>\n",
       "      <td>-3.636312e-03</td>\n",
       "      <td>3.734823e-03</td>\n",
       "      <td>-6.248109e-02</td>\n",
       "      <td>-2.945017e-02</td>\n",
       "      <td>6.781943e-03</td>\n",
       "      <td>-1.119293e-02</td>\n",
       "      <td>4.097606e-02</td>\n",
       "      <td>1.659350e-02</td>\n",
       "      <td>-5.213911e-02</td>\n",
       "      <td>1.342146e-03</td>\n",
       "      <td>1.124383e-02</td>\n",
       "      <td>22.000000</td>\n",
       "      <td>0.000000</td>\n",
       "    </tr>\n",
       "    <tr>\n",
       "      <th>75%</th>\n",
       "      <td>139320.500000</td>\n",
       "      <td>1.315642e+00</td>\n",
       "      <td>8.037239e-01</td>\n",
       "      <td>1.027196e+00</td>\n",
       "      <td>7.433413e-01</td>\n",
       "      <td>6.119264e-01</td>\n",
       "      <td>3.985649e-01</td>\n",
       "      <td>5.704361e-01</td>\n",
       "      <td>3.273459e-01</td>\n",
       "      <td>5.971390e-01</td>\n",
       "      <td>4.539234e-01</td>\n",
       "      <td>7.395934e-01</td>\n",
       "      <td>6.182380e-01</td>\n",
       "      <td>6.625050e-01</td>\n",
       "      <td>4.931498e-01</td>\n",
       "      <td>6.488208e-01</td>\n",
       "      <td>5.232963e-01</td>\n",
       "      <td>3.996750e-01</td>\n",
       "      <td>5.008067e-01</td>\n",
       "      <td>4.589494e-01</td>\n",
       "      <td>1.330408e-01</td>\n",
       "      <td>1.863772e-01</td>\n",
       "      <td>5.285536e-01</td>\n",
       "      <td>1.476421e-01</td>\n",
       "      <td>4.395266e-01</td>\n",
       "      <td>3.507156e-01</td>\n",
       "      <td>2.409522e-01</td>\n",
       "      <td>9.104512e-02</td>\n",
       "      <td>7.827995e-02</td>\n",
       "      <td>77.165000</td>\n",
       "      <td>0.000000</td>\n",
       "    </tr>\n",
       "    <tr>\n",
       "      <th>max</th>\n",
       "      <td>172792.000000</td>\n",
       "      <td>2.454930e+00</td>\n",
       "      <td>2.205773e+01</td>\n",
       "      <td>9.382558e+00</td>\n",
       "      <td>1.687534e+01</td>\n",
       "      <td>3.480167e+01</td>\n",
       "      <td>7.330163e+01</td>\n",
       "      <td>1.205895e+02</td>\n",
       "      <td>2.000721e+01</td>\n",
       "      <td>1.559499e+01</td>\n",
       "      <td>2.374514e+01</td>\n",
       "      <td>1.201891e+01</td>\n",
       "      <td>7.848392e+00</td>\n",
       "      <td>7.126883e+00</td>\n",
       "      <td>1.052677e+01</td>\n",
       "      <td>8.877742e+00</td>\n",
       "      <td>1.731511e+01</td>\n",
       "      <td>9.253526e+00</td>\n",
       "      <td>5.041069e+00</td>\n",
       "      <td>5.591971e+00</td>\n",
       "      <td>3.942090e+01</td>\n",
       "      <td>2.720284e+01</td>\n",
       "      <td>1.050309e+01</td>\n",
       "      <td>2.252841e+01</td>\n",
       "      <td>4.584549e+00</td>\n",
       "      <td>7.519589e+00</td>\n",
       "      <td>3.517346e+00</td>\n",
       "      <td>3.161220e+01</td>\n",
       "      <td>3.384781e+01</td>\n",
       "      <td>25691.160000</td>\n",
       "      <td>1.000000</td>\n",
       "    </tr>\n",
       "  </tbody>\n",
       "</table>\n",
       "</div>"
      ],
      "text/plain": [
       "                Time            V1            V2            V3            V4  \\\n",
       "count  284807.000000  2.848070e+05  2.848070e+05  2.848070e+05  2.848070e+05   \n",
       "mean    94813.859575  1.168375e-15  3.416908e-16 -1.379537e-15  2.074095e-15   \n",
       "std     47488.145955  1.958696e+00  1.651309e+00  1.516255e+00  1.415869e+00   \n",
       "min         0.000000 -5.640751e+01 -7.271573e+01 -4.832559e+01 -5.683171e+00   \n",
       "25%     54201.500000 -9.203734e-01 -5.985499e-01 -8.903648e-01 -8.486401e-01   \n",
       "50%     84692.000000  1.810880e-02  6.548556e-02  1.798463e-01 -1.984653e-02   \n",
       "75%    139320.500000  1.315642e+00  8.037239e-01  1.027196e+00  7.433413e-01   \n",
       "max    172792.000000  2.454930e+00  2.205773e+01  9.382558e+00  1.687534e+01   \n",
       "\n",
       "                 V5            V6            V7            V8            V9  \\\n",
       "count  2.848070e+05  2.848070e+05  2.848070e+05  2.848070e+05  2.848070e+05   \n",
       "mean   9.604066e-16  1.487313e-15 -5.556467e-16  1.213481e-16 -2.406331e-15   \n",
       "std    1.380247e+00  1.332271e+00  1.237094e+00  1.194353e+00  1.098632e+00   \n",
       "min   -1.137433e+02 -2.616051e+01 -4.355724e+01 -7.321672e+01 -1.343407e+01   \n",
       "25%   -6.915971e-01 -7.682956e-01 -5.540759e-01 -2.086297e-01 -6.430976e-01   \n",
       "50%   -5.433583e-02 -2.741871e-01  4.010308e-02  2.235804e-02 -5.142873e-02   \n",
       "75%    6.119264e-01  3.985649e-01  5.704361e-01  3.273459e-01  5.971390e-01   \n",
       "max    3.480167e+01  7.330163e+01  1.205895e+02  2.000721e+01  1.559499e+01   \n",
       "\n",
       "                V10           V11           V12           V13           V14  \\\n",
       "count  2.848070e+05  2.848070e+05  2.848070e+05  2.848070e+05  2.848070e+05   \n",
       "mean   2.239053e-15  1.673327e-15 -1.247012e-15  8.190001e-16  1.207294e-15   \n",
       "std    1.088850e+00  1.020713e+00  9.992014e-01  9.952742e-01  9.585956e-01   \n",
       "min   -2.458826e+01 -4.797473e+00 -1.868371e+01 -5.791881e+00 -1.921433e+01   \n",
       "25%   -5.354257e-01 -7.624942e-01 -4.055715e-01 -6.485393e-01 -4.255740e-01   \n",
       "50%   -9.291738e-02 -3.275735e-02  1.400326e-01 -1.356806e-02  5.060132e-02   \n",
       "75%    4.539234e-01  7.395934e-01  6.182380e-01  6.625050e-01  4.931498e-01   \n",
       "max    2.374514e+01  1.201891e+01  7.848392e+00  7.126883e+00  1.052677e+01   \n",
       "\n",
       "                V15           V16           V17           V18           V19  \\\n",
       "count  2.848070e+05  2.848070e+05  2.848070e+05  2.848070e+05  2.848070e+05   \n",
       "mean   4.887456e-15  1.437716e-15 -3.772171e-16  9.564149e-16  1.039917e-15   \n",
       "std    9.153160e-01  8.762529e-01  8.493371e-01  8.381762e-01  8.140405e-01   \n",
       "min   -4.498945e+00 -1.412985e+01 -2.516280e+01 -9.498746e+00 -7.213527e+00   \n",
       "25%   -5.828843e-01 -4.680368e-01 -4.837483e-01 -4.988498e-01 -4.562989e-01   \n",
       "50%    4.807155e-02  6.641332e-02 -6.567575e-02 -3.636312e-03  3.734823e-03   \n",
       "75%    6.488208e-01  5.232963e-01  3.996750e-01  5.008067e-01  4.589494e-01   \n",
       "max    8.877742e+00  1.731511e+01  9.253526e+00  5.041069e+00  5.591971e+00   \n",
       "\n",
       "                V20           V21           V22           V23           V24  \\\n",
       "count  2.848070e+05  2.848070e+05  2.848070e+05  2.848070e+05  2.848070e+05   \n",
       "mean   6.406204e-16  1.654067e-16 -3.568593e-16  2.578648e-16  4.473266e-15   \n",
       "std    7.709250e-01  7.345240e-01  7.257016e-01  6.244603e-01  6.056471e-01   \n",
       "min   -5.449772e+01 -3.483038e+01 -1.093314e+01 -4.480774e+01 -2.836627e+00   \n",
       "25%   -2.117214e-01 -2.283949e-01 -5.423504e-01 -1.618463e-01 -3.545861e-01   \n",
       "50%   -6.248109e-02 -2.945017e-02  6.781943e-03 -1.119293e-02  4.097606e-02   \n",
       "75%    1.330408e-01  1.863772e-01  5.285536e-01  1.476421e-01  4.395266e-01   \n",
       "max    3.942090e+01  2.720284e+01  1.050309e+01  2.252841e+01  4.584549e+00   \n",
       "\n",
       "                V25           V26           V27           V28         Amount  \\\n",
       "count  2.848070e+05  2.848070e+05  2.848070e+05  2.848070e+05  284807.000000   \n",
       "mean   5.340915e-16  1.683437e-15 -3.660091e-16 -1.227390e-16      88.349619   \n",
       "std    5.212781e-01  4.822270e-01  4.036325e-01  3.300833e-01     250.120109   \n",
       "min   -1.029540e+01 -2.604551e+00 -2.256568e+01 -1.543008e+01       0.000000   \n",
       "25%   -3.171451e-01 -3.269839e-01 -7.083953e-02 -5.295979e-02       5.600000   \n",
       "50%    1.659350e-02 -5.213911e-02  1.342146e-03  1.124383e-02      22.000000   \n",
       "75%    3.507156e-01  2.409522e-01  9.104512e-02  7.827995e-02      77.165000   \n",
       "max    7.519589e+00  3.517346e+00  3.161220e+01  3.384781e+01   25691.160000   \n",
       "\n",
       "               Class  \n",
       "count  284807.000000  \n",
       "mean        0.001727  \n",
       "std         0.041527  \n",
       "min         0.000000  \n",
       "25%         0.000000  \n",
       "50%         0.000000  \n",
       "75%         0.000000  \n",
       "max         1.000000  "
      ]
     },
     "execution_count": 7,
     "metadata": {},
     "output_type": "execute_result"
    }
   ],
   "source": [
    "data.describe()"
   ]
  },
  {
   "cell_type": "code",
   "execution_count": 8,
   "metadata": {},
   "outputs": [
    {
     "data": {
      "image/png": "[encoded data removed]",
      "text/plain": [
       "<Figure size 1080x720 with 1 Axes>"
      ]
     },
     "metadata": {
      "needs_background": "light"
     },
     "output_type": "display_data"
    }
   ],
   "source": [
    "plt.figure(figsize=(15,10))\n",
    "sns.boxplot(data.drop(columns=['Time', 'Amount', 'Class']))\n",
    "plt.show()"
   ]
  },
  {
   "cell_type": "code",
   "execution_count": 9,
   "metadata": {},
   "outputs": [
    {
     "data": {
      "text/plain": [
       "<AxesSubplot:>"
      ]
     },
     "execution_count": 9,
     "metadata": {},
     "output_type": "execute_result"
    },
    {
     "data": {
      "image/png": "[encoded data removed]",
      "text/plain": [
       "<Figure size 432x288 with 1 Axes>"
      ]
     },
     "metadata": {
      "needs_background": "light"
     },
     "output_type": "display_data"
    }
   ],
   "source": [
    "data[['Amount']].boxplot()"
   ]
  },
  {
   "cell_type": "markdown",
   "metadata": {},
   "source": [
    "## **Bivariate Analysis**\n",
    "### **Quantative Vs Qualitative**\n",
    "* t-test showing V8, V22, V23, and V25 does not have statistically significant impact on target variable.\n",
    "* Dropped these variable from the dataset.\n"
   ]
  },
  {
   "cell_type": "code",
   "execution_count": 10,
   "metadata": {},
   "outputs": [],
   "source": [
    "def ttest_util(df, col):\n",
    "    l = list(df.groupby('Class')[col].apply(np.array))\n",
    "    var_l1 = l[0].var()\n",
    "    var_l2 = l[1].var()\n",
    "    return l[0], l[1], var_l2/var_l1<=4 and var_l2/var_l1>=0.25"
   ]
  },
  {
   "cell_type": "code",
   "execution_count": 11,
   "metadata": {},
   "outputs": [],
   "source": [
    "def ttest(df):\n",
    "\n",
    "    cols = df.columns.drop('Class')\n",
    "\n",
    "    for col in cols:\n",
    "        a, b, equal_var = ttest_util(df, col)\n",
    "        _, p_value = ttest_ind(a, b, equal_var=equal_var)\n",
    "        print(f'p-value for {col} is: {p_value}')"
   ]
  },
  {
   "cell_type": "code",
   "execution_count": 12,
   "metadata": {},
   "outputs": [
    {
     "name": "stdout",
     "output_type": "stream",
     "text": [
      "p-value for Time is: 4.8182688917960346e-11\n",
      "p-value for V1 is: 5.4916429825378326e-45\n",
      "p-value for V2 is: 1.2885797612095705e-59\n",
      "p-value for V3 is: 4.7860814074282e-75\n",
      "p-value for V4 is: 4.587316921388042e-136\n",
      "p-value for V5 is: 1.4970277071054122e-33\n",
      "p-value for V6 is: 4.2131113453230875e-120\n",
      "p-value for V7 is: 4.2922313194412136e-52\n",
      "p-value for V8 is: 0.06275811803424983\n",
      "p-value for V9 is: 1.1935046623364425e-79\n",
      "p-value for V10 is: 3.382883650613687e-93\n",
      "p-value for V11 is: 4.577212375356592e-120\n",
      "p-value for V12 is: 1.4813165028380743e-112\n",
      "p-value for V13 is: 0.014737338961005653\n",
      "p-value for V14 is: 1.040150709902715e-140\n",
      "p-value for V15 is: 0.02420142600145766\n",
      "p-value for V16 is: 7.905325639437749e-84\n",
      "p-value for V17 is: 1.5580938057841998e-71\n",
      "p-value for V18 is: 2.6392225457940417e-52\n",
      "p-value for V19 is: 5.801517302142051e-77\n",
      "p-value for V20 is: 7.964292023532662e-27\n",
      "p-value for V21 is: 4.882129855322934e-05\n",
      "p-value for V22 is: 0.8346791940015029\n",
      "p-value for V23 is: 0.5710402154248273\n",
      "p-value for V24 is: 0.0001163760280885243\n",
      "p-value for V25 is: 0.0775250093814013\n",
      "p-value for V26 is: 0.01741970537124198\n",
      "p-value for V27 is: 0.006129683626016929\n",
      "p-value for V28 is: 3.5953535619896607e-07\n",
      "p-value for Amount is: 0.002651220649191683\n"
     ]
    }
   ],
   "source": [
    "ttest(data)"
   ]
  },
  {
   "cell_type": "code",
   "execution_count": 13,
   "metadata": {},
   "outputs": [],
   "source": [
    "data = data.drop(columns=['V8', 'V22', 'V23', 'V25'])"
   ]
  },
  {
   "cell_type": "markdown",
   "metadata": {},
   "source": [
    "### **Quantative Vs Quantative**\n",
    "* Data has PCA components as most of the features resulting into correlation zero.\n",
    "* Amount is correlated and can be derived from rest of the feaures. "
   ]
  },
  {
   "cell_type": "code",
   "execution_count": 14,
   "metadata": {},
   "outputs": [
    {
     "data": {
      "image/png": "[encoded data removed]",
      "text/plain": [
       "<Figure size 1440x720 with 2 Axes>"
      ]
     },
     "metadata": {
      "needs_background": "light"
     },
     "output_type": "display_data"
    }
   ],
   "source": [
    "plt.figure(figsize=(20,10))\n",
    "sns.heatmap(round(data.corr(),2), annot=True, cmap = 'crest')\n",
    "plt.show()"
   ]
  },
  {
   "cell_type": "markdown",
   "metadata": {},
   "source": [
    "### **Checking MultiCollinearity**"
   ]
  },
  {
   "cell_type": "code",
   "execution_count": 15,
   "metadata": {},
   "outputs": [],
   "source": [
    "def cal_vif(data, col):\n",
    "    return variance_inflation_factor(data.values, list(data.columns).index(col))"
   ]
  },
  {
   "cell_type": "code",
   "execution_count": 16,
   "metadata": {},
   "outputs": [
    {
     "name": "stdout",
     "output_type": "stream",
     "text": [
      "VIF-factor value for Amount is: 8.685883234406392\n",
      "VIF-factor value for Amount is: 1.9868843018835156\n"
     ]
    }
   ],
   "source": [
    "for col in ['Amount', 'Time']:\n",
    "    print('VIF-factor value for Amount is:', cal_vif(data, col))"
   ]
  },
  {
   "cell_type": "markdown",
   "metadata": {},
   "source": [
    "## **Utils**"
   ]
  },
  {
   "cell_type": "code",
   "execution_count": 93,
   "metadata": {},
   "outputs": [],
   "source": [
    "from sklearn.base import TransformerMixin\n",
    "from sklearn.preprocessing import RobustScaler\n",
    "from sklearn.feature_selection import RFE\n",
    "from imblearn.combine import SMOTEENN\n",
    "from imblearn.under_sampling import ClusterCentroids\n",
    "\n",
    "from sklearn.utils import shuffle\n",
    "from sklearn.model_selection import train_test_split, PredefinedSplit, GridSearchCV\n",
    "from sklearn.linear_model import LogisticRegressionCV, LogisticRegression\n",
    "from sklearn.cluster import MiniBatchKMeans\n",
    "from sklearn.metrics import classification_report, make_scorer\n"
   ]
  },
  {
   "cell_type": "code",
   "execution_count": 94,
   "metadata": {},
   "outputs": [],
   "source": [
    "class Scaler(TransformerMixin):\n",
    "    def __init__(self):\n",
    "        self.scaler = RobustScaler()\n",
    "    \n",
    "    def fit(self, X, y=None):\n",
    "        self.scaler.fit(X)\n",
    "        return self\n",
    "    \n",
    "    def transform(self, X):\n",
    "        return self.scaler.transform(X)"
   ]
  },
  {
   "cell_type": "code",
   "execution_count": 95,
   "metadata": {},
   "outputs": [],
   "source": [
    "def au_pr_curve(y_act, y_pred):\n",
    "\n",
    "    from sklearn.metrics import precision_recall_curve, auc\n",
    "    precision, recall, _ = precision_recall_curve(y_act, y_pred)\n",
    "    auprc = auc(recall, precision)\n",
    "    return auprc\n"
   ]
  },
  {
   "cell_type": "code",
   "execution_count": 96,
   "metadata": {},
   "outputs": [],
   "source": [
    "def custom_scorer():\n",
    "    return make_scorer(au_pr_curve, response_method=\"predict_proba\")"
   ]
  },
  {
   "cell_type": "code",
   "execution_count": 117,
   "metadata": {},
   "outputs": [],
   "source": [
    "def get_TopkFeatures(X, y, k, estimator = LogisticRegression()):\n",
    "    columns = X.columns\n",
    "    X = Scaler().fit_transform(X)\n",
    "    estimator_ = RFE(estimator=estimator)\n",
    "    params_dict = {'n_features_to_select': k}\n",
    "    model = GridSearchCV(estimator_, param_grid=params_dict, scoring=custom_scorer())\n",
    "    model.fit(X, y)\n",
    "    selected_features = columns[model.best_estimator_.support_]\n",
    "    return selected_features "
   ]
  },
  {
   "cell_type": "code",
   "execution_count": 98,
   "metadata": {},
   "outputs": [],
   "source": [
    "def smote_enn(X, y):\n",
    "    sme = SMOTEENN(random_state = 42)\n",
    "    X_res, y_res = sme.fit_resample(X, y)\n",
    "    return X_res, y_res\n"
   ]
  },
  {
   "cell_type": "code",
   "execution_count": 99,
   "metadata": {},
   "outputs": [],
   "source": [
    "def undersampling(X, y):\n",
    "    cc = ClusterCentroids(\n",
    "    estimator=MiniBatchKMeans(n_init=1, random_state=0), random_state=42,\n",
    "    sampling_strategy=0.2\n",
    "    )\n",
    "    X_res, y_res = cc.fit_resample(X, y)\n",
    "    return X_res, y_res"
   ]
  },
  {
   "cell_type": "markdown",
   "metadata": {},
   "source": [
    "## **Modeling**"
   ]
  },
  {
   "cell_type": "code",
   "execution_count": 146,
   "metadata": {},
   "outputs": [],
   "source": [
    "from sklearn.tree import DecisionTreeClassifier\n",
    "from sklearn.ensemble import RandomForestClassifier\n",
    "from xgboost import XGBClassifier"
   ]
  },
  {
   "cell_type": "code",
   "execution_count": 21,
   "metadata": {},
   "outputs": [],
   "source": [
    "def get_splits(X, y, dev_prop = 0.15, test_prop = 0.15):\n",
    "\n",
    "    tr_X, test_X, tr_y, test_y = train_test_split(X, y, test_size=test_prop, random_state=42, stratify=y)\n",
    "    train_X, dev_X, train_y, dev_y = train_test_split(tr_X, tr_y, test_size=dev_prop/(1-test_prop), random_state=42, stratify=tr_y)\n",
    "\n",
    "    return train_X, dev_X, test_X, train_y, dev_y, test_y\n"
   ]
  },
  {
   "cell_type": "code",
   "execution_count": 100,
   "metadata": {},
   "outputs": [],
   "source": [
    "def prepare_data(data, scaling = False):\n",
    "    df = data.copy()\n",
    "    df = shuffle(df, random_state=True)\n",
    "\n",
    "    X = data.drop('Class', axis=1)\n",
    "    y = data['Class']\n",
    "\n",
    "    return X, y"
   ]
  },
  {
   "cell_type": "code",
   "execution_count": 101,
   "metadata": {},
   "outputs": [],
   "source": [
    "def get_report(y_act, y_pred):\n",
    "    print(classification_report(y_act, y_pred))"
   ]
  },
  {
   "cell_type": "code",
   "execution_count": 147,
   "metadata": {},
   "outputs": [],
   "source": [
    "def get_model(model_name):\n",
    "    if model_name=='Logistic_Regression':\n",
    "        return (\n",
    "            model_name,\n",
    "            LogisticRegression(),\n",
    "            {}\n",
    "        )\n",
    "    elif model_name=='DecisionTree':\n",
    "        return (\n",
    "            model_name,\n",
    "            DecisionTreeClassifier(),\n",
    "            {\n",
    "                'max_depth': [5, 10, 20, 50],\n",
    "                'min_samples_leaf': [1, 2, 5],\n",
    "                'min_samples_split': [2, 5]\n",
    "            }\n",
    "        )\n",
    "    elif model_name=='RandomForest':\n",
    "        return (\n",
    "            model_name,\n",
    "            RandomForestClassifier(),\n",
    "            {\n",
    "                'max_depth': [5, 10, 20, 50],\n",
    "                'min_samples_leaf': [1, 2, 5],\n",
    "                'min_samples_split': [2, 5],\n",
    "                'n_estimators': [50, 100, 300]\n",
    "            }\n",
    "        )\n",
    "    elif model_name=='XGBoost':\n",
    "        return (\n",
    "            model_name,\n",
    "            XGBClassifier(),\n",
    "            {\n",
    "                'eta': [0.01, 0.05, 0.1, 0.3],\n",
    "                'n_estimators': [100, 200, 300],\n",
    "                'max_depth': [3, 4, 5, 6],\n",
    "                'min_child_weight': [1, 5, 10, 20],\n",
    "                'gamma': [0, 0.1, 0.2, 0.3],\n",
    "                'subsample': [0.6, 0.8, 0.9],\n",
    "                'colsample_bytree': [0.6, 0.8, 0.9]\n",
    "            }\n",
    "        )\n",
    "    else:\n",
    "        raise Exception('Plese select model name from: [\"XGBoost\", \"DecisionTree\", \"RandomForest\", \"Logistic_Regression\"]')\n",
    "    "
   ]
  },
  {
   "cell_type": "markdown",
   "metadata": {},
   "source": [
    "### **Logistic Regression**"
   ]
  },
  {
   "cell_type": "code",
   "execution_count": 103,
   "metadata": {},
   "outputs": [],
   "source": [
    "class LR:\n",
    "    def __init__(self) -> None:\n",
    "        pass\n",
    "\n",
    "    def fit(self, X_train, y_train, X_dev=None, y_dev=None):\n",
    "\n",
    "        # feature scaling\n",
    "        print('Scaling the features ...')\n",
    "        self.scaler = Scaler()\n",
    "        X_train = pd.DataFrame(self.scaler.fit_transform(X_train), columns=X_train.columns)\n",
    "        \n",
    "        # class balancing \n",
    "        print('Balancing the class ...')\n",
    "        print('Class distribution before resampling:\\n', y_train.value_counts())\n",
    "        print()\n",
    "        X_train, y_train = undersampling(X_train, y_train)\n",
    "        print('Class distribution after resampling:\\n', y_train.value_counts())\n",
    "        \n",
    "        \n",
    "        # Loading and fitting model\n",
    "        print('fitting the model ...')\n",
    "        self.name, model, params_dict = get_model('Logistic_Regression')\n",
    "\n",
    "        if X_dev is not None:\n",
    "            cv_indices = np.append(np.full(X_train.shape[0], -1), np.full(X_dev.shape[0], 0))\n",
    "            X_train = pd.concat([X_train, X_dev])\n",
    "            y_train = pd.concat([y_train, y_dev])\n",
    "            model = GridSearchCV(model, param_grid=params_dict, cv = PredefinedSplit(cv_indices))\n",
    "        else:\n",
    "            model = GridSearchCV(model, param_grid=params_dict)\n",
    "            print('Best parameters are:', model.best_params_)\n",
    "        \n",
    "        model.fit(X_train, y_train)\n",
    "        \n",
    "        self.model = model.best_estimator_"
   ]
  },
  {
   "cell_type": "code",
   "execution_count": 104,
   "metadata": {},
   "outputs": [
    {
     "name": "stdout",
     "output_type": "stream",
     "text": [
      "Scaling the features ...\n",
      "Balancing the class ...\n",
      "Class distribution before resampling:\n",
      " 0    199020\n",
      "1       344\n",
      "Name: Class, dtype: int64\n",
      "\n",
      "Class distribution after resampling:\n",
      " 0    1720\n",
      "1     344\n",
      "Name: Class, dtype: int64\n",
      "fitting the model ...\n"
     ]
    },
    {
     "name": "stderr",
     "output_type": "stream",
     "text": [
      "/home/tushar/.local/lib/python3.8/site-packages/sklearn/linear_model/_logistic.py:444: ConvergenceWarning: lbfgs failed to converge (status=1):\n",
      "STOP: TOTAL NO. of ITERATIONS REACHED LIMIT.\n",
      "\n",
      "Increase the number of iterations (max_iter) or scale the data as shown in:\n",
      "    https://scikit-learn.org/stable/modules/preprocessing.html\n",
      "Please also refer to the documentation for alternative solver options:\n",
      "    https://scikit-learn.org/stable/modules/linear_model.html#logistic-regression\n",
      "  n_iter_i = _check_optimize_result(\n"
     ]
    }
   ],
   "source": [
    "X, y = prepare_data(data)\n",
    "train_X, dev_X, test_X, train_y, dev_y, test_y = get_splits(X,y)\n",
    "\n",
    "log_reg = LR()\n",
    "log_reg.fit(train_X, train_y, dev_X, dev_y)"
   ]
  },
  {
   "cell_type": "code",
   "execution_count": 105,
   "metadata": {},
   "outputs": [],
   "source": [
    "y_pred = log_reg.model.predict(test_X)\n",
    "y_pred_probs = log_reg.model.predict_proba(test_X)[:,1]"
   ]
  },
  {
   "cell_type": "code",
   "execution_count": 106,
   "metadata": {},
   "outputs": [
    {
     "name": "stdout",
     "output_type": "stream",
     "text": [
      "Area Under Precision-Recall curve is:  0.5971785349583383\n",
      "\n",
      "              precision    recall  f1-score   support\n",
      "\n",
      "           0       1.00      1.00      1.00     42648\n",
      "           1       0.79      0.73      0.76        74\n",
      "\n",
      "    accuracy                           1.00     42722\n",
      "   macro avg       0.90      0.86      0.88     42722\n",
      "weighted avg       1.00      1.00      1.00     42722\n",
      "\n"
     ]
    }
   ],
   "source": [
    "print('Area Under Precision-Recall curve is: ', au_pr_curve(test_y, y_pred_probs))\n",
    "print()\n",
    "get_report(test_y, y_pred)"
   ]
  },
  {
   "cell_type": "code",
   "execution_count": 107,
   "metadata": {},
   "outputs": [
    {
     "data": {
      "image/png": "[encoded data removed]",
      "text/plain": [
       "<Figure size 720x504 with 1 Axes>"
      ]
     },
     "metadata": {
      "needs_background": "light"
     },
     "output_type": "display_data"
    }
   ],
   "source": [
    "feature_importance = pd.DataFrame({'Feature': train_X.columns, 'Importance': log_reg.model.coef_.ravel()}).sort_values(by = 'Importance')\n",
    "plt.figure(figsize=(10,7))\n",
    "# feature_importance.plot(kind = 'barh', x='Feature', y='Importance')\n",
    "plt.barh(feature_importance['Feature'], feature_importance['Importance'])\n",
    "plt.show();"
   ]
  },
  {
   "cell_type": "markdown",
   "metadata": {},
   "source": [
    "### **Decision-Tree**"
   ]
  },
  {
   "cell_type": "code",
   "execution_count": 114,
   "metadata": {},
   "outputs": [],
   "source": [
    "# preparing train/dev/test splits\n",
    "X, y = prepare_data(data)\n",
    "train_X, dev_X, test_X, train_y, dev_y, test_y = get_splits(X,y)"
   ]
  },
  {
   "cell_type": "code",
   "execution_count": 115,
   "metadata": {},
   "outputs": [],
   "source": [
    "# performing undersampling\n",
    "train_X, train_y = undersampling(train_X, train_y)"
   ]
  },
  {
   "cell_type": "code",
   "execution_count": 122,
   "metadata": {},
   "outputs": [
    {
     "name": "stderr",
     "output_type": "stream",
     "text": [
      "/home/tushar/.local/lib/python3.8/site-packages/sklearn/model_selection/_validation.py:776: UserWarning: Scoring failed. The score on this train-test partition for these parameters will be set to nan. Details: \n",
      "Traceback (most recent call last):\n",
      "  File \"/home/tushar/.local/lib/python3.8/site-packages/sklearn/model_selection/_validation.py\", line 767, in _score\n",
      "    scores = scorer(estimator, X_test, y_test)\n",
      "  File \"/home/tushar/.local/lib/python3.8/site-packages/sklearn/metrics/_scorer.py\", line 219, in __call__\n",
      "    return self._score(\n",
      "  File \"/home/tushar/.local/lib/python3.8/site-packages/sklearn/metrics/_scorer.py\", line 267, in _score\n",
      "    return self._sign * self._score_func(y_true, y_pred, **self._kwargs)\n",
      "TypeError: au_pr_curve() got an unexpected keyword argument 'response_method'\n",
      "\n",
      "  warnings.warn(\n",
      "/home/tushar/.local/lib/python3.8/site-packages/sklearn/model_selection/_validation.py:776: UserWarning: Scoring failed. The score on this train-test partition for these parameters will be set to nan. Details: \n",
      "Traceback (most recent call last):\n",
      "  File \"/home/tushar/.local/lib/python3.8/site-packages/sklearn/model_selection/_validation.py\", line 767, in _score\n",
      "    scores = scorer(estimator, X_test, y_test)\n",
      "  File \"/home/tushar/.local/lib/python3.8/site-packages/sklearn/metrics/_scorer.py\", line 219, in __call__\n",
      "    return self._score(\n",
      "  File \"/home/tushar/.local/lib/python3.8/site-packages/sklearn/metrics/_scorer.py\", line 267, in _score\n",
      "    return self._sign * self._score_func(y_true, y_pred, **self._kwargs)\n",
      "TypeError: au_pr_curve() got an unexpected keyword argument 'response_method'\n",
      "\n",
      "  warnings.warn(\n",
      "/home/tushar/.local/lib/python3.8/site-packages/sklearn/model_selection/_validation.py:776: UserWarning: Scoring failed. The score on this train-test partition for these parameters will be set to nan. Details: \n",
      "Traceback (most recent call last):\n",
      "  File \"/home/tushar/.local/lib/python3.8/site-packages/sklearn/model_selection/_validation.py\", line 767, in _score\n",
      "    scores = scorer(estimator, X_test, y_test)\n",
      "  File \"/home/tushar/.local/lib/python3.8/site-packages/sklearn/metrics/_scorer.py\", line 219, in __call__\n",
      "    return self._score(\n",
      "  File \"/home/tushar/.local/lib/python3.8/site-packages/sklearn/metrics/_scorer.py\", line 267, in _score\n",
      "    return self._sign * self._score_func(y_true, y_pred, **self._kwargs)\n",
      "TypeError: au_pr_curve() got an unexpected keyword argument 'response_method'\n",
      "\n",
      "  warnings.warn(\n",
      "/home/tushar/.local/lib/python3.8/site-packages/sklearn/model_selection/_validation.py:776: UserWarning: Scoring failed. The score on this train-test partition for these parameters will be set to nan. Details: \n",
      "Traceback (most recent call last):\n",
      "  File \"/home/tushar/.local/lib/python3.8/site-packages/sklearn/model_selection/_validation.py\", line 767, in _score\n",
      "    scores = scorer(estimator, X_test, y_test)\n",
      "  File \"/home/tushar/.local/lib/python3.8/site-packages/sklearn/metrics/_scorer.py\", line 219, in __call__\n",
      "    return self._score(\n",
      "  File \"/home/tushar/.local/lib/python3.8/site-packages/sklearn/metrics/_scorer.py\", line 267, in _score\n",
      "    return self._sign * self._score_func(y_true, y_pred, **self._kwargs)\n",
      "TypeError: au_pr_curve() got an unexpected keyword argument 'response_method'\n",
      "\n",
      "  warnings.warn(\n",
      "/home/tushar/.local/lib/python3.8/site-packages/sklearn/model_selection/_validation.py:776: UserWarning: Scoring failed. The score on this train-test partition for these parameters will be set to nan. Details: \n",
      "Traceback (most recent call last):\n",
      "  File \"/home/tushar/.local/lib/python3.8/site-packages/sklearn/model_selection/_validation.py\", line 767, in _score\n",
      "    scores = scorer(estimator, X_test, y_test)\n",
      "  File \"/home/tushar/.local/lib/python3.8/site-packages/sklearn/metrics/_scorer.py\", line 219, in __call__\n",
      "    return self._score(\n",
      "  File \"/home/tushar/.local/lib/python3.8/site-packages/sklearn/metrics/_scorer.py\", line 267, in _score\n",
      "    return self._sign * self._score_func(y_true, y_pred, **self._kwargs)\n",
      "TypeError: au_pr_curve() got an unexpected keyword argument 'response_method'\n",
      "\n",
      "  warnings.warn(\n",
      "/home/tushar/.local/lib/python3.8/site-packages/sklearn/model_selection/_validation.py:776: UserWarning: Scoring failed. The score on this train-test partition for these parameters will be set to nan. Details: \n",
      "Traceback (most recent call last):\n",
      "  File \"/home/tushar/.local/lib/python3.8/site-packages/sklearn/model_selection/_validation.py\", line 767, in _score\n",
      "    scores = scorer(estimator, X_test, y_test)\n",
      "  File \"/home/tushar/.local/lib/python3.8/site-packages/sklearn/metrics/_scorer.py\", line 219, in __call__\n",
      "    return self._score(\n",
      "  File \"/home/tushar/.local/lib/python3.8/site-packages/sklearn/metrics/_scorer.py\", line 267, in _score\n",
      "    return self._sign * self._score_func(y_true, y_pred, **self._kwargs)\n",
      "TypeError: au_pr_curve() got an unexpected keyword argument 'response_method'\n",
      "\n",
      "  warnings.warn(\n",
      "/home/tushar/.local/lib/python3.8/site-packages/sklearn/model_selection/_validation.py:776: UserWarning: Scoring failed. The score on this train-test partition for these parameters will be set to nan. Details: \n",
      "Traceback (most recent call last):\n",
      "  File \"/home/tushar/.local/lib/python3.8/site-packages/sklearn/model_selection/_validation.py\", line 767, in _score\n",
      "    scores = scorer(estimator, X_test, y_test)\n",
      "  File \"/home/tushar/.local/lib/python3.8/site-packages/sklearn/metrics/_scorer.py\", line 219, in __call__\n",
      "    return self._score(\n",
      "  File \"/home/tushar/.local/lib/python3.8/site-packages/sklearn/metrics/_scorer.py\", line 267, in _score\n",
      "    return self._sign * self._score_func(y_true, y_pred, **self._kwargs)\n",
      "TypeError: au_pr_curve() got an unexpected keyword argument 'response_method'\n",
      "\n",
      "  warnings.warn(\n",
      "/home/tushar/.local/lib/python3.8/site-packages/sklearn/model_selection/_validation.py:776: UserWarning: Scoring failed. The score on this train-test partition for these parameters will be set to nan. Details: \n",
      "Traceback (most recent call last):\n",
      "  File \"/home/tushar/.local/lib/python3.8/site-packages/sklearn/model_selection/_validation.py\", line 767, in _score\n",
      "    scores = scorer(estimator, X_test, y_test)\n",
      "  File \"/home/tushar/.local/lib/python3.8/site-packages/sklearn/metrics/_scorer.py\", line 219, in __call__\n",
      "    return self._score(\n",
      "  File \"/home/tushar/.local/lib/python3.8/site-packages/sklearn/metrics/_scorer.py\", line 267, in _score\n",
      "    return self._sign * self._score_func(y_true, y_pred, **self._kwargs)\n",
      "TypeError: au_pr_curve() got an unexpected keyword argument 'response_method'\n",
      "\n",
      "  warnings.warn(\n",
      "/home/tushar/.local/lib/python3.8/site-packages/sklearn/model_selection/_validation.py:776: UserWarning: Scoring failed. The score on this train-test partition for these parameters will be set to nan. Details: \n",
      "Traceback (most recent call last):\n",
      "  File \"/home/tushar/.local/lib/python3.8/site-packages/sklearn/model_selection/_validation.py\", line 767, in _score\n",
      "    scores = scorer(estimator, X_test, y_test)\n",
      "  File \"/home/tushar/.local/lib/python3.8/site-packages/sklearn/metrics/_scorer.py\", line 219, in __call__\n",
      "    return self._score(\n",
      "  File \"/home/tushar/.local/lib/python3.8/site-packages/sklearn/metrics/_scorer.py\", line 267, in _score\n",
      "    return self._sign * self._score_func(y_true, y_pred, **self._kwargs)\n",
      "TypeError: au_pr_curve() got an unexpected keyword argument 'response_method'\n",
      "\n",
      "  warnings.warn(\n",
      "/home/tushar/.local/lib/python3.8/site-packages/sklearn/model_selection/_validation.py:776: UserWarning: Scoring failed. The score on this train-test partition for these parameters will be set to nan. Details: \n",
      "Traceback (most recent call last):\n",
      "  File \"/home/tushar/.local/lib/python3.8/site-packages/sklearn/model_selection/_validation.py\", line 767, in _score\n",
      "    scores = scorer(estimator, X_test, y_test)\n",
      "  File \"/home/tushar/.local/lib/python3.8/site-packages/sklearn/metrics/_scorer.py\", line 219, in __call__\n",
      "    return self._score(\n",
      "  File \"/home/tushar/.local/lib/python3.8/site-packages/sklearn/metrics/_scorer.py\", line 267, in _score\n",
      "    return self._sign * self._score_func(y_true, y_pred, **self._kwargs)\n",
      "TypeError: au_pr_curve() got an unexpected keyword argument 'response_method'\n",
      "\n",
      "  warnings.warn(\n",
      "/home/tushar/.local/lib/python3.8/site-packages/sklearn/model_selection/_validation.py:776: UserWarning: Scoring failed. The score on this train-test partition for these parameters will be set to nan. Details: \n",
      "Traceback (most recent call last):\n",
      "  File \"/home/tushar/.local/lib/python3.8/site-packages/sklearn/model_selection/_validation.py\", line 767, in _score\n",
      "    scores = scorer(estimator, X_test, y_test)\n",
      "  File \"/home/tushar/.local/lib/python3.8/site-packages/sklearn/metrics/_scorer.py\", line 219, in __call__\n",
      "    return self._score(\n",
      "  File \"/home/tushar/.local/lib/python3.8/site-packages/sklearn/metrics/_scorer.py\", line 267, in _score\n",
      "    return self._sign * self._score_func(y_true, y_pred, **self._kwargs)\n",
      "TypeError: au_pr_curve() got an unexpected keyword argument 'response_method'\n",
      "\n",
      "  warnings.warn(\n",
      "/home/tushar/.local/lib/python3.8/site-packages/sklearn/model_selection/_validation.py:776: UserWarning: Scoring failed. The score on this train-test partition for these parameters will be set to nan. Details: \n",
      "Traceback (most recent call last):\n",
      "  File \"/home/tushar/.local/lib/python3.8/site-packages/sklearn/model_selection/_validation.py\", line 767, in _score\n",
      "    scores = scorer(estimator, X_test, y_test)\n",
      "  File \"/home/tushar/.local/lib/python3.8/site-packages/sklearn/metrics/_scorer.py\", line 219, in __call__\n",
      "    return self._score(\n",
      "  File \"/home/tushar/.local/lib/python3.8/site-packages/sklearn/metrics/_scorer.py\", line 267, in _score\n",
      "    return self._sign * self._score_func(y_true, y_pred, **self._kwargs)\n",
      "TypeError: au_pr_curve() got an unexpected keyword argument 'response_method'\n",
      "\n",
      "  warnings.warn(\n",
      "/home/tushar/.local/lib/python3.8/site-packages/sklearn/model_selection/_validation.py:776: UserWarning: Scoring failed. The score on this train-test partition for these parameters will be set to nan. Details: \n",
      "Traceback (most recent call last):\n",
      "  File \"/home/tushar/.local/lib/python3.8/site-packages/sklearn/model_selection/_validation.py\", line 767, in _score\n",
      "    scores = scorer(estimator, X_test, y_test)\n",
      "  File \"/home/tushar/.local/lib/python3.8/site-packages/sklearn/metrics/_scorer.py\", line 219, in __call__\n",
      "    return self._score(\n",
      "  File \"/home/tushar/.local/lib/python3.8/site-packages/sklearn/metrics/_scorer.py\", line 267, in _score\n",
      "    return self._sign * self._score_func(y_true, y_pred, **self._kwargs)\n",
      "TypeError: au_pr_curve() got an unexpected keyword argument 'response_method'\n",
      "\n",
      "  warnings.warn(\n",
      "/home/tushar/.local/lib/python3.8/site-packages/sklearn/model_selection/_validation.py:776: UserWarning: Scoring failed. The score on this train-test partition for these parameters will be set to nan. Details: \n",
      "Traceback (most recent call last):\n",
      "  File \"/home/tushar/.local/lib/python3.8/site-packages/sklearn/model_selection/_validation.py\", line 767, in _score\n",
      "    scores = scorer(estimator, X_test, y_test)\n",
      "  File \"/home/tushar/.local/lib/python3.8/site-packages/sklearn/metrics/_scorer.py\", line 219, in __call__\n",
      "    return self._score(\n",
      "  File \"/home/tushar/.local/lib/python3.8/site-packages/sklearn/metrics/_scorer.py\", line 267, in _score\n",
      "    return self._sign * self._score_func(y_true, y_pred, **self._kwargs)\n",
      "TypeError: au_pr_curve() got an unexpected keyword argument 'response_method'\n",
      "\n",
      "  warnings.warn(\n",
      "/home/tushar/.local/lib/python3.8/site-packages/sklearn/model_selection/_validation.py:776: UserWarning: Scoring failed. The score on this train-test partition for these parameters will be set to nan. Details: \n",
      "Traceback (most recent call last):\n",
      "  File \"/home/tushar/.local/lib/python3.8/site-packages/sklearn/model_selection/_validation.py\", line 767, in _score\n",
      "    scores = scorer(estimator, X_test, y_test)\n",
      "  File \"/home/tushar/.local/lib/python3.8/site-packages/sklearn/metrics/_scorer.py\", line 219, in __call__\n",
      "    return self._score(\n",
      "  File \"/home/tushar/.local/lib/python3.8/site-packages/sklearn/metrics/_scorer.py\", line 267, in _score\n",
      "    return self._sign * self._score_func(y_true, y_pred, **self._kwargs)\n",
      "TypeError: au_pr_curve() got an unexpected keyword argument 'response_method'\n",
      "\n",
      "  warnings.warn(\n",
      "/home/tushar/.local/lib/python3.8/site-packages/sklearn/model_selection/_validation.py:776: UserWarning: Scoring failed. The score on this train-test partition for these parameters will be set to nan. Details: \n",
      "Traceback (most recent call last):\n",
      "  File \"/home/tushar/.local/lib/python3.8/site-packages/sklearn/model_selection/_validation.py\", line 767, in _score\n",
      "    scores = scorer(estimator, X_test, y_test)\n",
      "  File \"/home/tushar/.local/lib/python3.8/site-packages/sklearn/metrics/_scorer.py\", line 219, in __call__\n",
      "    return self._score(\n",
      "  File \"/home/tushar/.local/lib/python3.8/site-packages/sklearn/metrics/_scorer.py\", line 267, in _score\n",
      "    return self._sign * self._score_func(y_true, y_pred, **self._kwargs)\n",
      "TypeError: au_pr_curve() got an unexpected keyword argument 'response_method'\n",
      "\n",
      "  warnings.warn(\n",
      "/home/tushar/.local/lib/python3.8/site-packages/sklearn/model_selection/_validation.py:776: UserWarning: Scoring failed. The score on this train-test partition for these parameters will be set to nan. Details: \n",
      "Traceback (most recent call last):\n",
      "  File \"/home/tushar/.local/lib/python3.8/site-packages/sklearn/model_selection/_validation.py\", line 767, in _score\n",
      "    scores = scorer(estimator, X_test, y_test)\n",
      "  File \"/home/tushar/.local/lib/python3.8/site-packages/sklearn/metrics/_scorer.py\", line 219, in __call__\n",
      "    return self._score(\n",
      "  File \"/home/tushar/.local/lib/python3.8/site-packages/sklearn/metrics/_scorer.py\", line 267, in _score\n",
      "    return self._sign * self._score_func(y_true, y_pred, **self._kwargs)\n",
      "TypeError: au_pr_curve() got an unexpected keyword argument 'response_method'\n",
      "\n",
      "  warnings.warn(\n",
      "/home/tushar/.local/lib/python3.8/site-packages/sklearn/model_selection/_validation.py:776: UserWarning: Scoring failed. The score on this train-test partition for these parameters will be set to nan. Details: \n",
      "Traceback (most recent call last):\n",
      "  File \"/home/tushar/.local/lib/python3.8/site-packages/sklearn/model_selection/_validation.py\", line 767, in _score\n",
      "    scores = scorer(estimator, X_test, y_test)\n",
      "  File \"/home/tushar/.local/lib/python3.8/site-packages/sklearn/metrics/_scorer.py\", line 219, in __call__\n",
      "    return self._score(\n",
      "  File \"/home/tushar/.local/lib/python3.8/site-packages/sklearn/metrics/_scorer.py\", line 267, in _score\n",
      "    return self._sign * self._score_func(y_true, y_pred, **self._kwargs)\n",
      "TypeError: au_pr_curve() got an unexpected keyword argument 'response_method'\n",
      "\n",
      "  warnings.warn(\n",
      "/home/tushar/.local/lib/python3.8/site-packages/sklearn/model_selection/_validation.py:776: UserWarning: Scoring failed. The score on this train-test partition for these parameters will be set to nan. Details: \n",
      "Traceback (most recent call last):\n",
      "  File \"/home/tushar/.local/lib/python3.8/site-packages/sklearn/model_selection/_validation.py\", line 767, in _score\n",
      "    scores = scorer(estimator, X_test, y_test)\n",
      "  File \"/home/tushar/.local/lib/python3.8/site-packages/sklearn/metrics/_scorer.py\", line 219, in __call__\n",
      "    return self._score(\n",
      "  File \"/home/tushar/.local/lib/python3.8/site-packages/sklearn/metrics/_scorer.py\", line 267, in _score\n",
      "    return self._sign * self._score_func(y_true, y_pred, **self._kwargs)\n",
      "TypeError: au_pr_curve() got an unexpected keyword argument 'response_method'\n",
      "\n",
      "  warnings.warn(\n",
      "/home/tushar/.local/lib/python3.8/site-packages/sklearn/model_selection/_validation.py:776: UserWarning: Scoring failed. The score on this train-test partition for these parameters will be set to nan. Details: \n",
      "Traceback (most recent call last):\n",
      "  File \"/home/tushar/.local/lib/python3.8/site-packages/sklearn/model_selection/_validation.py\", line 767, in _score\n",
      "    scores = scorer(estimator, X_test, y_test)\n",
      "  File \"/home/tushar/.local/lib/python3.8/site-packages/sklearn/metrics/_scorer.py\", line 219, in __call__\n",
      "    return self._score(\n",
      "  File \"/home/tushar/.local/lib/python3.8/site-packages/sklearn/metrics/_scorer.py\", line 267, in _score\n",
      "    return self._sign * self._score_func(y_true, y_pred, **self._kwargs)\n",
      "TypeError: au_pr_curve() got an unexpected keyword argument 'response_method'\n",
      "\n",
      "  warnings.warn(\n",
      "/home/tushar/.local/lib/python3.8/site-packages/sklearn/model_selection/_search.py:953: UserWarning: One or more of the test scores are non-finite: [nan nan nan nan]\n",
      "  warnings.warn(\n"
     ]
    },
    {
     "data": {
      "text/plain": [
       "Index(['V2', 'V4', 'V13', 'V14', 'V26'], dtype='object')"
      ]
     },
     "execution_count": 122,
     "metadata": {},
     "output_type": "execute_result"
    }
   ],
   "source": [
    "# selecting top-k best features\n",
    "selected_features = get_TopkFeatures(train_X, train_y, [5, 7, 10, 15])"
   ]
  },
  {
   "cell_type": "code",
   "execution_count": 123,
   "metadata": {},
   "outputs": [
    {
     "data": {
      "text/plain": [
       "Index(['V2', 'V4', 'V13', 'V14', 'V26'], dtype='object')"
      ]
     },
     "execution_count": 123,
     "metadata": {},
     "output_type": "execute_result"
    }
   ],
   "source": [
    "selected_features"
   ]
  },
  {
   "cell_type": "code",
   "execution_count": 121,
   "metadata": {},
   "outputs": [],
   "source": [
    "train_X = train_X[selected_features]\n",
    "dev_X = dev_X[selected_features]\n",
    "test_X = test_X[selected_features]"
   ]
  },
  {
   "cell_type": "code",
   "execution_count": 126,
   "metadata": {},
   "outputs": [],
   "source": [
    "# setting cv for cross-validation\n",
    "\n",
    "cv_indices = np.append(np.full(train_X.shape[0], -1), np.full(dev_X.shape[0], 0))\n",
    "train_X = pd.concat([train_X, dev_X])\n",
    "train_y = pd.concat([train_y, dev_y])\n"
   ]
  },
  {
   "cell_type": "code",
   "execution_count": 133,
   "metadata": {},
   "outputs": [
    {
     "name": "stdout",
     "output_type": "stream",
     "text": [
      "Best parameters are: {'max_depth': 5, 'min_samples_leaf': 1, 'min_samples_split': 2}\n"
     ]
    }
   ],
   "source": [
    "# fitting decision tree model with hyperparameter tuning\n",
    "\n",
    "_, dt_model, dt_params = get_model('DecisionTree')\n",
    "dt_model = GridSearchCV(dt_model, param_grid=dt_params, scoring=custom_scorer(), cv=PredefinedSplit(cv_indices))\n",
    "\n",
    "dt_model.fit(train_X, train_y)\n",
    "print('Best parameters are:', dt_model.best_params_)"
   ]
  },
  {
   "cell_type": "code",
   "execution_count": 134,
   "metadata": {},
   "outputs": [],
   "source": [
    "y_pred = dt_model.best_estimator_.predict(test_X)\n",
    "y_pred_probs = dt_model.best_estimator_.predict_proba(test_X)[:,1]"
   ]
  },
  {
   "cell_type": "code",
   "execution_count": 137,
   "metadata": {},
   "outputs": [
    {
     "name": "stdout",
     "output_type": "stream",
     "text": [
      "Area Under Precision Recall curve is:  0.60709720535426\n",
      "\n",
      "              precision    recall  f1-score   support\n",
      "\n",
      "           0       1.00      1.00      1.00     42648\n",
      "           1       0.61      0.74      0.67        74\n",
      "\n",
      "    accuracy                           1.00     42722\n",
      "   macro avg       0.81      0.87      0.84     42722\n",
      "weighted avg       1.00      1.00      1.00     42722\n",
      "\n"
     ]
    }
   ],
   "source": [
    "print('Area Under Precision Recall curve is: ',au_pr_curve(test_y, y_pred_probs))\n",
    "print()\n",
    "get_report(test_y, y_pred)"
   ]
  },
  {
   "cell_type": "code",
   "execution_count": 136,
   "metadata": {},
   "outputs": [
    {
     "data": {
      "image/png": "[encoded data removed]",
      "text/plain": [
       "<Figure size 720x504 with 1 Axes>"
      ]
     },
     "metadata": {
      "needs_background": "light"
     },
     "output_type": "display_data"
    }
   ],
   "source": [
    "feature_importance = pd.DataFrame({'Feature': train_X.columns, 'Importance':\n",
    "                                   dt_model.best_estimator_.feature_importances_.ravel()}).sort_values(by = 'Importance')\n",
    "plt.figure(figsize=(10,7))\n",
    "# feature_importance.plot(kind = 'barh', x='Feature', y='Importance')\n",
    "plt.barh(feature_importance['Feature'], feature_importance['Importance'])\n",
    "plt.show();"
   ]
  },
  {
   "cell_type": "markdown",
   "metadata": {},
   "source": [
    "### **Random Forest**"
   ]
  },
  {
   "cell_type": "code",
   "execution_count": 142,
   "metadata": {},
   "outputs": [
    {
     "name": "stdout",
     "output_type": "stream",
     "text": [
      "Best parameters are: {'max_depth': 5, 'min_samples_leaf': 1, 'min_samples_split': 2, 'n_estimators': 50}\n"
     ]
    }
   ],
   "source": [
    "# fitting random forest model with hyperparameter tuning\n",
    "\n",
    "_, rf_model, rf_params = get_model('RandomForest')\n",
    "rf_model = GridSearchCV(rf_model, param_grid=rf_params, scoring=custom_scorer(), cv=PredefinedSplit(cv_indices))\n",
    "\n",
    "rf_model.fit(train_X, train_y)\n",
    "print('Best parameters are:', rf_model.best_params_)"
   ]
  },
  {
   "cell_type": "code",
   "execution_count": 143,
   "metadata": {},
   "outputs": [],
   "source": [
    "y_pred = rf_model.best_estimator_.predict(test_X)\n",
    "y_pred_probs = rf_model.best_estimator_.predict_proba(test_X)[:,1]"
   ]
  },
  {
   "cell_type": "code",
   "execution_count": 144,
   "metadata": {},
   "outputs": [
    {
     "name": "stdout",
     "output_type": "stream",
     "text": [
      "Area Under Precision Recall curve is:  0.6396727674661061\n",
      "\n",
      "              precision    recall  f1-score   support\n",
      "\n",
      "           0       1.00      1.00      1.00     42648\n",
      "           1       0.67      0.77      0.72        74\n",
      "\n",
      "    accuracy                           1.00     42722\n",
      "   macro avg       0.84      0.88      0.86     42722\n",
      "weighted avg       1.00      1.00      1.00     42722\n",
      "\n"
     ]
    }
   ],
   "source": [
    "print('Area Under Precision Recall curve is: ',au_pr_curve(test_y, y_pred_probs))\n",
    "print()\n",
    "get_report(test_y, y_pred)"
   ]
  },
  {
   "cell_type": "code",
   "execution_count": 145,
   "metadata": {},
   "outputs": [
    {
     "data": {
      "image/png": "[encoded data removed]",
      "text/plain": [
       "<Figure size 720x504 with 1 Axes>"
      ]
     },
     "metadata": {
      "needs_background": "light"
     },
     "output_type": "display_data"
    }
   ],
   "source": [
    "feature_importance = pd.DataFrame({'Feature': train_X.columns, 'Importance':\n",
    "                                   rf_model.best_estimator_.feature_importances_.ravel()}).sort_values(by = 'Importance')\n",
    "plt.figure(figsize=(10,7))\n",
    "plt.barh(feature_importance['Feature'], feature_importance['Importance'])\n",
    "plt.show();"
   ]
  },
  {
   "cell_type": "code",
   "execution_count": null,
   "metadata": {},
   "outputs": [],
   "source": []
  },
  {
   "cell_type": "markdown",
   "metadata": {},
   "source": [
    "### **XGBoost**"
   ]
  },
  {
   "cell_type": "code",
   "execution_count": 148,
   "metadata": {},
   "outputs": [
    {
     "name": "stdout",
     "output_type": "stream",
     "text": [
      "Best parameters are: {'colsample_bytree': 0.6, 'eta': 0.01, 'gamma': 0, 'max_depth': 3, 'min_child_weight': 1, 'n_estimators': 100, 'subsample': 0.6}\n"
     ]
    }
   ],
   "source": [
    "# fitting XGBoost model with hyperparameter tuning\n",
    "\n",
    "_, xgb_model, xgb_params = get_model('XGBoost')\n",
    "xgb_model = GridSearchCV(xgb_model, param_grid=xgb_params, scoring=custom_scorer(), cv=PredefinedSplit(cv_indices))\n",
    "\n",
    "xgb_model.fit(train_X, train_y)\n",
    "print('Best parameters are:', xgb_model.best_params_)"
   ]
  },
  {
   "cell_type": "code",
   "execution_count": 149,
   "metadata": {},
   "outputs": [],
   "source": [
    "y_pred = xgb_model.best_estimator_.predict(test_X)\n",
    "y_pred_probs = xgb_model.best_estimator_.predict_proba(test_X)[:,1]"
   ]
  },
  {
   "cell_type": "code",
   "execution_count": 150,
   "metadata": {},
   "outputs": [
    {
     "name": "stdout",
     "output_type": "stream",
     "text": [
      "Area Under Precision Recall curve is:  0.6126527253210121\n",
      "\n",
      "              precision    recall  f1-score   support\n",
      "\n",
      "           0       1.00      1.00      1.00     42648\n",
      "           1       0.67      0.68      0.67        74\n",
      "\n",
      "    accuracy                           1.00     42722\n",
      "   macro avg       0.83      0.84      0.84     42722\n",
      "weighted avg       1.00      1.00      1.00     42722\n",
      "\n"
     ]
    }
   ],
   "source": [
    "print('Area Under Precision Recall curve is: ',au_pr_curve(test_y, y_pred_probs))\n",
    "print()\n",
    "get_report(test_y, y_pred)"
   ]
  },
  {
   "cell_type": "code",
   "execution_count": 151,
   "metadata": {},
   "outputs": [
    {
     "data": {
      "image/png": "[encoded data removed]",
      "text/plain": [
       "<Figure size 720x504 with 1 Axes>"
      ]
     },
     "metadata": {
      "needs_background": "light"
     },
     "output_type": "display_data"
    }
   ],
   "source": [
    "feature_importance = pd.DataFrame({'Feature': train_X.columns, 'Importance':\n",
    "                                   rf_model.best_estimator_.feature_importances_.ravel()}).sort_values(by = 'Importance')\n",
    "plt.figure(figsize=(10,7))\n",
    "plt.barh(feature_importance['Feature'], feature_importance['Importance'])\n",
    "plt.show();"
   ]
  },
  {
   "cell_type": "code",
   "execution_count": null,
   "metadata": {},
   "outputs": [],
   "source": []
  }
 ],
 "metadata": {
  "kernelspec": {
   "display_name": "Python 3",
   "language": "python",
   "name": "python3"
  },
  "language_info": {
   "codemirror_mode": {
    "name": "ipython",
    "version": 3
   },
   "file_extension": ".py",
   "mimetype": "text/x-python",
   "name": "python",
   "nbconvert_exporter": "python",
   "pygments_lexer": "ipython3",
   "version": "3.8.10"
  }
 },
 "nbformat": 4,
 "nbformat_minor": 2
}
